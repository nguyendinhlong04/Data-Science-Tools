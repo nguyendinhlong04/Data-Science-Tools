{
 "cells": [
  {
   "cell_type": "markdown",
   "id": "d546c367-b232-4fed-8624-dfa5cb06a812",
   "metadata": {
    "editable": true,
    "slideshow": {
     "slide_type": ""
    },
    "tags": []
   },
   "source": [
    "# Data Science Tools and Ecosystem"
   ]
  },
  {
   "cell_type": "markdown",
   "id": "444523f9-e3e7-465e-a6b7-3173c35d1303",
   "metadata": {},
   "source": [
    "In this notebook, Data Science Tools and Ecosystem are summarized."
   ]
  },
  {
   "cell_type": "markdown",
   "id": "a5e1d898-4f40-4a58-a29d-207bc1942f89",
   "metadata": {},
   "source": [
    "**Objectives:**\n",
    "- Explore popular languages for Data Science.\n",
    "- Understand key concepts of machine learning and its application.\n",
    "- Learn how to manipulate and analyze data using pandas.\n",
    "- Gain insights into data visualization technique using Matplotlib and seaborn.\n",
    "- Get hands-on experience with Jupyter Notebooks for data analysis."
   ]
  },
  {
   "cell_type": "markdown",
   "id": "93830074-3847-4c4c-8369-2a45da364e6a",
   "metadata": {},
   "source": [
    "Some of the popular languages that Data Scientists use are:\n",
    "- R \n",
    "- Python \n",
    "- C ++\n",
    "- Java\n",
    "- Ruby\n",
    "- Julia"
   ]
  },
  {
   "cell_type": "markdown",
   "id": "99889c51-7117-4713-a44d-ca16b3042935",
   "metadata": {},
   "source": [
    "Some of the commonly used libraries used by Data Scientists include:\n",
    "- Pandas\n",
    "- Numpy\n",
    "- Scipy\n",
    "- Matplotlib\n",
    "- Scikit-learn\n",
    "- Tensorflow\n",
    "- Keras\n",
    "- Pytorch\n",
    "- Seaborn\n",
    "- Plotly\n",
    "- GGplot"
   ]
  },
  {
   "cell_type": "markdown",
   "id": "e36a0287-bc9d-46e3-9738-98c0f03360f8",
   "metadata": {},
   "source": [
    "Data Science Tools\n",
    "- RStudio\n",
    "- VsCode\n",
    "- Pycharm\n",
    "- Jupyter Notebooks\n",
    "- Apache Hadoop\n",
    "- BigML\n",
    "- Tableau\n",
    "- Tensorflow"
   ]
  },
  {
   "cell_type": "markdown",
   "id": "89e5d6c4-67f6-40d3-897d-29d23447a3bd",
   "metadata": {},
   "source": [
    "### Below are a few examples of evaluating arithmetic expressions in Python\n",
    "- Addition: The sum of two numbers.\n",
    "  Ex: (2 + 6 = 8)\n",
    "- Subtraction: The difference between two numbers.\n",
    "  Ex: (2 - 1 = 1)\n",
    "- Multiplication: The product of two numbers.\n",
    "  Ex: (2 * 3 = 6)\n",
    "- Division: The quotient of two numbers.\n",
    "  Ex: (8 / 2 = 4)\n",
    "- Exponentiation: Raising a number to the power of another number.\n",
    "  Ex: (2 ^ 2 = 4)\n",
    "- Module: The reminder of the division of one number by another.\n",
    "  Ex: (8 % 3 = 2)"
   ]
  },
  {
   "cell_type": "markdown",
   "id": "1e69b748-e728-4f08-a75c-fe384726e6e4",
   "metadata": {},
   "source": [
    "This a simple arithmetic expression to multiply then add integers"
   ]
  },
  {
   "cell_type": "code",
   "execution_count": 2,
   "id": "a292c974-04c0-4955-af0a-aeb9478c83be",
   "metadata": {},
   "outputs": [
    {
     "data": {
      "text/plain": [
       "17"
      ]
     },
     "execution_count": 2,
     "metadata": {},
     "output_type": "execute_result"
    }
   ],
   "source": [
    "(3*4)+5"
   ]
  },
  {
   "cell_type": "markdown",
   "id": "563745de-e2dd-42e7-afe7-feeb2a8c2e54",
   "metadata": {},
   "source": [
    "This will convert 200 minutes to hours by diving by 60"
   ]
  },
  {
   "cell_type": "code",
   "execution_count": 3,
   "id": "2ce7db71-43f8-4ff7-8a5f-b7ac3dae4145",
   "metadata": {},
   "outputs": [
    {
     "data": {
      "text/plain": [
       "3"
      ]
     },
     "execution_count": 3,
     "metadata": {},
     "output_type": "execute_result"
    }
   ],
   "source": [
    "200//60"
   ]
  },
  {
   "cell_type": "markdown",
   "id": "1e461ed4-3de4-4af3-8041-d2a99eb19a03",
   "metadata": {},
   "source": [
    "## Author\n",
    "Nguyen Dinh Long"
   ]
  }
 ],
 "metadata": {
  "kernelspec": {
   "display_name": "anaconda-panel-2023.05-py310",
   "language": "python",
   "name": "conda-env-anaconda-panel-2023.05-py310-py"
  },
  "language_info": {
   "codemirror_mode": {
    "name": "ipython",
    "version": 3
   },
   "file_extension": ".py",
   "mimetype": "text/x-python",
   "name": "python",
   "nbconvert_exporter": "python",
   "pygments_lexer": "ipython3",
   "version": "3.11.5"
  }
 },
 "nbformat": 4,
 "nbformat_minor": 5
}
